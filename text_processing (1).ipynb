{
 "cells": [
  {
   "cell_type": "code",
   "execution_count": 19,
   "id": "fa3c4313-35a7-4411-b829-a4415b9f6ce1",
   "metadata": {},
   "outputs": [],
   "source": [
    "def remove_punc(input_text):\n",
    "    punctuation_marks=['.',',','!','?','&','^','(',')',';',':','#','*','%','~','`','\"']\n",
    "    output_text=\"\"\n",
    "    for char in input_text:\n",
    "        if char not in punctuation_marks:\n",
    "            output_text+=char\n",
    "    return output_text"
   ]
  },
  {
   "cell_type": "code",
   "execution_count": 61,
   "id": "a57e7533-e1d8-407b-b6f8-4791b4f03e8a",
   "metadata": {},
   "outputs": [
    {
     "data": {
      "text/plain": [
       "'Hello How are you'"
      ]
     },
     "execution_count": 61,
     "metadata": {},
     "output_type": "execute_result"
    }
   ],
   "source": [
    "remove_punc('''Hello!, \"How are you?\"''')"
   ]
  },
  {
   "cell_type": "code",
   "execution_count": 57,
   "id": "b27e0bf3-5a0d-406b-9a85-fd14fe1da47b",
   "metadata": {},
   "outputs": [],
   "source": [
    "def remove_stopwords(input_text):\n",
    "    stop_words=[\"is\",\"and\",\"the\",\"a\",\"an\",\"in\",\"on\",\"has\",\"have\",\"at\",\"they\",\"with\",\"into\",\"for\",\"it\",\"was\"]\n",
    "    words=input_text.split()\n",
    "    filtered_words=[]\n",
    "    for word in words:\n",
    "        if word.lower() not in stop_words:\n",
    "            filtered_words.append(word)\n",
    "    output_text=' '.join(filtered_words)\n",
    "    return output_text"
   ]
  },
  {
   "cell_type": "code",
   "execution_count": 59,
   "id": "9f3ec7b9-9a05-4d65-a779-b54ee2f9ba93",
   "metadata": {},
   "outputs": [
    {
     "data": {
      "text/plain": [
       "'movie good hit'"
      ]
     },
     "execution_count": 59,
     "metadata": {},
     "output_type": "execute_result"
    }
   ],
   "source": [
    "remove_stopwords(\"The movie was good and it is a hit\")"
   ]
  },
  {
   "cell_type": "code",
   "execution_count": 63,
   "id": "c3bd3c9c-0b93-4bfd-aa0b-2006f37bab46",
   "metadata": {},
   "outputs": [],
   "source": [
    "import text_processing as tp"
   ]
  },
  {
   "cell_type": "code",
   "execution_count": 65,
   "id": "335da073-3ca5-4430-a78d-21bd9de04988",
   "metadata": {},
   "outputs": [
    {
     "data": {
      "text/plain": [
       "'Hello'"
      ]
     },
     "execution_count": 65,
     "metadata": {},
     "output_type": "execute_result"
    }
   ],
   "source": [
    "tp.remove_punc(\"%&?,!Hello*&^\")"
   ]
  },
  {
   "cell_type": "code",
   "execution_count": 71,
   "id": "1e0d4849-b488-49eb-9cda-b93ef24e90ce",
   "metadata": {},
   "outputs": [
    {
     "data": {
      "text/plain": [
       "'There great man who intelligent shrewed person'"
      ]
     },
     "execution_count": 71,
     "metadata": {},
     "output_type": "execute_result"
    }
   ],
   "source": [
    "str=\"There was a great man who was an intelligent and shrewed person\"\n",
    "tp.remove_stopwords(str)"
   ]
  },
  {
   "cell_type": "code",
   "execution_count": null,
   "id": "05664c6c-1f18-4f17-b7b1-32ff27844117",
   "metadata": {},
   "outputs": [],
   "source": []
  }
 ],
 "metadata": {
  "kernelspec": {
   "display_name": "Python [conda env:base] *",
   "language": "python",
   "name": "conda-base-py"
  },
  "language_info": {
   "codemirror_mode": {
    "name": "ipython",
    "version": 3
   },
   "file_extension": ".py",
   "mimetype": "text/x-python",
   "name": "python",
   "nbconvert_exporter": "python",
   "pygments_lexer": "ipython3",
   "version": "3.12.7"
  }
 },
 "nbformat": 4,
 "nbformat_minor": 5
}
