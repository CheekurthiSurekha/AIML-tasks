{
 "cells": [
  {
   "cell_type": "code",
   "execution_count": 1,
   "id": "43cde91a-a375-472d-af83-192d90bd7f47",
   "metadata": {},
   "outputs": [],
   "source": [
    "L=[100,50,193,443,256,53,1000]"
   ]
  },
  {
   "cell_type": "code",
   "execution_count": 3,
   "id": "06cc6e46-0edf-44f1-b063-8b3215d48c49",
   "metadata": {},
   "outputs": [],
   "source": [
    "L1=[]\n",
    "L2=[]\n",
    "for x in L:\n",
    "    if x%2 == 0:\n",
    "        L1.append(x)\n",
    "    else:\n",
    "        L2.append(x)"
   ]
  },
  {
   "cell_type": "code",
   "execution_count": 5,
   "id": "285b2e45-9619-4d0b-9d8c-2a34e494019b",
   "metadata": {},
   "outputs": [
    {
     "name": "stdout",
     "output_type": "stream",
     "text": [
      "[100, 50, 256, 1000]\n",
      "[193, 443, 53]\n"
     ]
    }
   ],
   "source": [
    "print(L1)\n",
    "print(L2)"
   ]
  },
  {
   "cell_type": "code",
   "execution_count": 7,
   "id": "221b43e8-abd3-4f5c-a899-47012470f664",
   "metadata": {},
   "outputs": [],
   "source": [
    "L=[\"A\",100,\"B\",20.5,True,6+8j]"
   ]
  },
  {
   "cell_type": "code",
   "execution_count": 13,
   "id": "da188dbb-3575-4183-858d-585c7d76f4ad",
   "metadata": {},
   "outputs": [
    {
     "name": "stdout",
     "output_type": "stream",
     "text": [
      "[100, 20.5]\n"
     ]
    }
   ],
   "source": [
    "L1=[]\n",
    "L2=[]\n",
    "L3=[]\n",
    "L4=[]\n",
    "for x in L:\n",
    "    if type(x)==int:\n",
    "        L1.append(x)\n",
    "    elif type(x)==float:\n",
    "        L1.append(x)\n",
    "print(L1)"
   ]
  },
  {
   "cell_type": "code",
   "execution_count": 1,
   "id": "5e60ccb1-eac9-46c7-80d4-a95c397e591d",
   "metadata": {},
   "outputs": [
    {
     "name": "stdout",
     "output_type": "stream",
     "text": [
      "20\n"
     ]
    }
   ],
   "source": [
    "my_list=[10,20,30,40,50]\n",
    "print(my_list[1])"
   ]
  },
  {
   "cell_type": "code",
   "execution_count": 3,
   "id": "6f4c09fa-7883-4e1a-b910-22acae5f4f3d",
   "metadata": {},
   "outputs": [
    {
     "name": "stdout",
     "output_type": "stream",
     "text": [
      "[20, 30]\n"
     ]
    }
   ],
   "source": [
    "print(my_list[1:3])"
   ]
  },
  {
   "cell_type": "code",
   "execution_count": 5,
   "id": "b6d3eb07-0933-4ed3-861c-9b868b092ba6",
   "metadata": {},
   "outputs": [
    {
     "name": "stdout",
     "output_type": "stream",
     "text": [
      "[20, 30, 40, 50]\n"
     ]
    }
   ],
   "source": [
    "print(my_list[1:])"
   ]
  },
  {
   "cell_type": "code",
   "execution_count": 8,
   "id": "3089d6f1-bd2a-4efd-b399-f76ede3f0e9a",
   "metadata": {},
   "outputs": [
    {
     "name": "stdout",
     "output_type": "stream",
     "text": [
      "[10, 20, 30]\n"
     ]
    }
   ],
   "source": [
    "print(my_list[:3])"
   ]
  },
  {
   "cell_type": "code",
   "execution_count": 11,
   "id": "d0ac4e11-ab6b-4046-86b2-9c01c56828d1",
   "metadata": {},
   "outputs": [
    {
     "name": "stdout",
     "output_type": "stream",
     "text": [
      "[10, 20, 30, 40, 50]\n"
     ]
    }
   ],
   "source": [
    "print(my_list[:])"
   ]
  },
  {
   "cell_type": "code",
   "execution_count": 14,
   "id": "6fc1ee6c-9c93-4646-af85-16d0d4dd41c2",
   "metadata": {},
   "outputs": [
    {
     "name": "stdout",
     "output_type": "stream",
     "text": [
      "30\n",
      "60\n",
      "90\n",
      "120\n"
     ]
    }
   ],
   "source": [
    "my_list=[10,20,30,40]\n",
    "for item in my_list:\n",
    "    print(3*item)"
   ]
  },
  {
   "cell_type": "code",
   "execution_count": 16,
   "id": "2b276988-b551-42da-9483-9c4025315110",
   "metadata": {},
   "outputs": [
    {
     "name": "stdout",
     "output_type": "stream",
     "text": [
      "[10, 20, 30, 40, 10, 20, 30, 40, 10, 20, 30, 40]\n"
     ]
    }
   ],
   "source": [
    "print(3*my_list)"
   ]
  },
  {
   "cell_type": "code",
   "execution_count": 10,
   "id": "55e61241-31f0-4745-b112-c744c6bda73d",
   "metadata": {},
   "outputs": [
    {
     "name": "stdout",
     "output_type": "stream",
     "text": [
      "30\n",
      "60\n",
      "90\n",
      "120\n"
     ]
    }
   ],
   "source": [
    "my_list=[10,20,30,40]\n",
    "for x in range(len(my_list)):\n",
    "    print(3*my_list[x])"
   ]
  },
  {
   "cell_type": "code",
   "execution_count": 12,
   "id": "da113cf6-259c-4ccd-9b6a-22a0cd457dc6",
   "metadata": {},
   "outputs": [
    {
     "data": {
      "text/plain": [
       "[[1, 2], [3, 4], [5, 6]]"
      ]
     },
     "execution_count": 12,
     "metadata": {},
     "output_type": "execute_result"
    }
   ],
   "source": [
    "#Supports Nesting\n",
    "nested_list=[[1,2],[3,4],[5,6]]\n",
    "nested_list"
   ]
  },
  {
   "cell_type": "code",
   "execution_count": 14,
   "id": "9dde5512-c7b6-4b4c-974b-a6886be05629",
   "metadata": {},
   "outputs": [
    {
     "data": {
      "text/plain": [
       "['__add__',\n",
       " '__class__',\n",
       " '__class_getitem__',\n",
       " '__contains__',\n",
       " '__delattr__',\n",
       " '__delitem__',\n",
       " '__dir__',\n",
       " '__doc__',\n",
       " '__eq__',\n",
       " '__format__',\n",
       " '__ge__',\n",
       " '__getattribute__',\n",
       " '__getitem__',\n",
       " '__getstate__',\n",
       " '__gt__',\n",
       " '__hash__',\n",
       " '__iadd__',\n",
       " '__imul__',\n",
       " '__init__',\n",
       " '__init_subclass__',\n",
       " '__iter__',\n",
       " '__le__',\n",
       " '__len__',\n",
       " '__lt__',\n",
       " '__mul__',\n",
       " '__ne__',\n",
       " '__new__',\n",
       " '__reduce__',\n",
       " '__reduce_ex__',\n",
       " '__repr__',\n",
       " '__reversed__',\n",
       " '__rmul__',\n",
       " '__setattr__',\n",
       " '__setitem__',\n",
       " '__sizeof__',\n",
       " '__str__',\n",
       " '__subclasshook__',\n",
       " 'append',\n",
       " 'clear',\n",
       " 'copy',\n",
       " 'count',\n",
       " 'extend',\n",
       " 'index',\n",
       " 'insert',\n",
       " 'pop',\n",
       " 'remove',\n",
       " 'reverse',\n",
       " 'sort']"
      ]
     },
     "execution_count": 14,
     "metadata": {},
     "output_type": "execute_result"
    }
   ],
   "source": [
    "dir(list)"
   ]
  },
  {
   "cell_type": "code",
   "execution_count": 16,
   "id": "7c657a24-84bc-49bd-bf1b-a501a8fe1eb5",
   "metadata": {},
   "outputs": [
    {
     "data": {
      "text/plain": [
       "[['apple', 10], ['banana', 5], ['cherry', 7], ['banana', 5]]"
      ]
     },
     "execution_count": 16,
     "metadata": {},
     "output_type": "execute_result"
    }
   ],
   "source": [
    "#Initial list of orders\n",
    "orders=[[\"apple\",10],[\"banana\",5],[\"cherry\",7],[\"banana\",5]]\n",
    "orders"
   ]
  },
  {
   "cell_type": "code",
   "execution_count": 18,
   "id": "a72f185e-d54e-438a-bf96-aa729b42fddf",
   "metadata": {},
   "outputs": [
    {
     "data": {
      "text/plain": [
       "[['apple', 10], ['banana', 5], ['cherry', 7], ['banana', 5], ['date', 12]]"
      ]
     },
     "execution_count": 18,
     "metadata": {},
     "output_type": "execute_result"
    }
   ],
   "source": [
    "#add new order with append\n",
    "new_order=[\"date\",12]\n",
    "orders.append(new_order)\n",
    "orders"
   ]
  },
  {
   "cell_type": "code",
   "execution_count": 31,
   "id": "316b4098-5069-49de-87de-02cc14e1d326",
   "metadata": {},
   "outputs": [
    {
     "data": {
      "text/plain": [
       "[['apple', 10],\n",
       " ['banana', 5],\n",
       " ['cherry', 7],\n",
       " ['banana', 5],\n",
       " ['date', 12],\n",
       " [['grape', 9], ['apple', 20]],\n",
       " ['grape', 9],\n",
       " ['apple', 20],\n",
       " ['grape', 9],\n",
       " ['apple', 20],\n",
       " ['grape', 9],\n",
       " ['apple', 20],\n",
       " ['grape', 9],\n",
       " ['apple', 20],\n",
       " ['graps', 10],\n",
       " ['apple', 20]]"
      ]
     },
     "execution_count": 31,
     "metadata": {},
     "output_type": "execute_result"
    }
   ],
   "source": [
    "new_orders=[[\"graps\",10],[\"apple\",20]]\n",
    "orders.extend(new_orders)\n",
    "orders"
   ]
  },
  {
   "cell_type": "code",
   "execution_count": 33,
   "id": "2c6cdf07-ce09-4f7b-943e-11ee8a421fb0",
   "metadata": {},
   "outputs": [
    {
     "data": {
      "text/plain": [
       "['date', 12]"
      ]
     },
     "execution_count": 33,
     "metadata": {},
     "output_type": "execute_result"
    }
   ],
   "source": [
    "duplicate_order=[\"banana\",5]\n",
    "orders.pop(4)"
   ]
  },
  {
   "cell_type": "code",
   "execution_count": 19,
   "id": "2d01e782-a495-4746-b4f6-f19661b3dc64",
   "metadata": {},
   "outputs": [
    {
     "name": "stdout",
     "output_type": "stream",
     "text": [
      "[['apple', 10], ['banana', 5], ['cherry', 10], ['dragon', 10], ['grape', 9], ['apple', 20]]\n"
     ]
    }
   ],
   "source": [
    "#day3 order list\n",
    "orders=[['apple',10],['banana',5],['cherry',7],['dragon',10],['grape',9],['apple',20]]\n",
    "for each in orders:\n",
    "    if each[0] == \"cherry\":\n",
    "        each[1] = 10\n",
    "print(orders)\n",
    "        \n"
   ]
  },
  {
   "cell_type": "code",
   "execution_count": 36,
   "id": "5516edc1-6b03-4761-b6c9-2f3fd72183b3",
   "metadata": {},
   "outputs": [
    {
     "name": "stdout",
     "output_type": "stream",
     "text": [
      "[10, 20]\n",
      "30\n"
     ]
    }
   ],
   "source": [
    "apple_orders=[]\n",
    "for each in orders:\n",
    "    if each[0] == 'apple':\n",
    "        apple_orders.append(each[1])\n",
    "print(apple_orders)\n",
    "print(sum(apple_orders))"
   ]
  },
  {
   "cell_type": "code",
   "execution_count": 62,
   "id": "678dae91-21a3-48be-972e-b2f99503ec1a",
   "metadata": {},
   "outputs": [],
   "source": [
    "tup1=(3,5,9,10) #index and count = 2 methods in tuple"
   ]
  },
  {
   "cell_type": "code",
   "execution_count": 40,
   "id": "928a71bc-18ef-420f-8e9e-82ecd9cf8b91",
   "metadata": {},
   "outputs": [],
   "source": [
    "tup2=10,20,30,'Hi'"
   ]
  },
  {
   "cell_type": "code",
   "execution_count": 46,
   "id": "ba5959f0-3217-4794-ad49-72f05ff1c38c",
   "metadata": {},
   "outputs": [],
   "source": [
    "tup3=tuple([1,2,5,7]) #inbuilt tuple function"
   ]
  },
  {
   "cell_type": "code",
   "execution_count": 52,
   "id": "768e1710-652d-4bf8-8a7f-1e14807e7ead",
   "metadata": {},
   "outputs": [],
   "source": [
    "tup4=([3,4,5],(1,3,6),\"Hello\",10.5) #nested tuple"
   ]
  },
  {
   "cell_type": "code",
   "execution_count": 50,
   "id": "497a7280-e621-4a2b-abcb-0bb37f41f1b6",
   "metadata": {},
   "outputs": [
    {
     "name": "stdout",
     "output_type": "stream",
     "text": [
      "([3, 4, 5], (1, 3, 6), 'Hello', 10.5)\n"
     ]
    }
   ],
   "source": [
    "print(tup4)"
   ]
  },
  {
   "cell_type": "code",
   "execution_count": 54,
   "id": "9bf8f375-8bde-497a-8375-d2061548b765",
   "metadata": {},
   "outputs": [
    {
     "data": {
      "text/plain": [
       "([3, 4, 10], (1, 3, 6), 'Hello', 10.5)"
      ]
     },
     "execution_count": 54,
     "metadata": {},
     "output_type": "execute_result"
    }
   ],
   "source": [
    "tup4[0][2] = 10\n",
    "tup4"
   ]
  },
  {
   "cell_type": "code",
   "execution_count": 60,
   "id": "7c030fe8-bfe4-499e-aab7-71a8ea9e7b94",
   "metadata": {},
   "outputs": [
    {
     "ename": "TypeError",
     "evalue": "'tuple' object does not support item assignment",
     "output_type": "error",
     "traceback": [
      "\u001b[1;31m---------------------------------------------------------------------------\u001b[0m",
      "\u001b[1;31mTypeError\u001b[0m                                 Traceback (most recent call last)",
      "Cell \u001b[1;32mIn[60], line 1\u001b[0m\n\u001b[1;32m----> 1\u001b[0m tup4[\u001b[38;5;241m1\u001b[39m][\u001b[38;5;241m1\u001b[39m] \u001b[38;5;241m=\u001b[39m \u001b[38;5;241m20\u001b[39m\n\u001b[0;32m      2\u001b[0m tup4\n",
      "\u001b[1;31mTypeError\u001b[0m: 'tuple' object does not support item assignment"
     ]
    }
   ],
   "source": [
    "tup4[1][1] = 20\n",
    "tup4"
   ]
  },
  {
   "cell_type": "code",
   "execution_count": 64,
   "id": "2dc21ccf-645f-4960-bc2e-992f4726857e",
   "metadata": {},
   "outputs": [
    {
     "data": {
      "text/plain": [
       "2"
      ]
     },
     "execution_count": 64,
     "metadata": {},
     "output_type": "execute_result"
    }
   ],
   "source": [
    "#index() method\n",
    "tup4.index(\"Hello\")"
   ]
  },
  {
   "cell_type": "code",
   "execution_count": 66,
   "id": "e05d64cb-d327-4aee-892c-9b94b7f8aae4",
   "metadata": {},
   "outputs": [
    {
     "data": {
      "text/plain": [
       "4"
      ]
     },
     "execution_count": 66,
     "metadata": {},
     "output_type": "execute_result"
    }
   ],
   "source": [
    "#count() method\n",
    "tup5=(10,20,1,10,10,30,10)\n",
    "tup5.count(10)"
   ]
  },
  {
   "cell_type": "code",
   "execution_count": 1,
   "id": "9afa8a17-405f-4945-ab50-9450fb65f570",
   "metadata": {},
   "outputs": [
    {
     "name": "stdout",
     "output_type": "stream",
     "text": [
      "{'a': 10, 'b': 20, 'c': 30}\n"
     ]
    }
   ],
   "source": [
    "#dictionay\n",
    "d2=dict(a=10,b=20,c=30)\n",
    "print(d2)"
   ]
  },
  {
   "cell_type": "code",
   "execution_count": 3,
   "id": "40d31228-871c-4f4a-af25-6b19add70d98",
   "metadata": {},
   "outputs": [
    {
     "name": "stdout",
     "output_type": "stream",
     "text": [
      "{'x': 1, 'y': 2, 'z': 3}\n"
     ]
    }
   ],
   "source": [
    "#create distionary with list of tuples\n",
    "d3=dict([(\"x\",1),(\"y\",2),(\"z\",3)])\n",
    "print(d3)"
   ]
  },
  {
   "cell_type": "code",
   "execution_count": 5,
   "id": "2880a61b-ecf0-4832-a5c1-d7ac4826a98a",
   "metadata": {},
   "outputs": [
    {
     "name": "stdout",
     "output_type": "stream",
     "text": [
      "dict_keys(['a', 'b', 'c'])\n",
      "dict_values([10, 20, 30])\n",
      "dict_items([('a', 10), ('b', 20), ('c', 30)])\n"
     ]
    }
   ],
   "source": [
    "print(d2.keys())\n",
    "print(d2.values())\n",
    "print(d2.items())"
   ]
  },
  {
   "cell_type": "code",
   "execution_count": 7,
   "id": "4992343a-1b85-411e-a5fe-57c49de12fb6",
   "metadata": {},
   "outputs": [
    {
     "data": {
      "text/plain": [
       "['__class__',\n",
       " '__class_getitem__',\n",
       " '__contains__',\n",
       " '__delattr__',\n",
       " '__delitem__',\n",
       " '__dir__',\n",
       " '__doc__',\n",
       " '__eq__',\n",
       " '__format__',\n",
       " '__ge__',\n",
       " '__getattribute__',\n",
       " '__getitem__',\n",
       " '__getstate__',\n",
       " '__gt__',\n",
       " '__hash__',\n",
       " '__init__',\n",
       " '__init_subclass__',\n",
       " '__ior__',\n",
       " '__iter__',\n",
       " '__le__',\n",
       " '__len__',\n",
       " '__lt__',\n",
       " '__ne__',\n",
       " '__new__',\n",
       " '__or__',\n",
       " '__reduce__',\n",
       " '__reduce_ex__',\n",
       " '__repr__',\n",
       " '__reversed__',\n",
       " '__ror__',\n",
       " '__setattr__',\n",
       " '__setitem__',\n",
       " '__sizeof__',\n",
       " '__str__',\n",
       " '__subclasshook__',\n",
       " 'clear',\n",
       " 'copy',\n",
       " 'fromkeys',\n",
       " 'get',\n",
       " 'items',\n",
       " 'keys',\n",
       " 'pop',\n",
       " 'popitem',\n",
       " 'setdefault',\n",
       " 'update',\n",
       " 'values']"
      ]
     },
     "execution_count": 7,
     "metadata": {},
     "output_type": "execute_result"
    }
   ],
   "source": [
    "dir(dict)"
   ]
  },
  {
   "cell_type": "code",
   "execution_count": 9,
   "id": "bdcc9402-33a1-4fb6-8070-eedbcbcc8a96",
   "metadata": {},
   "outputs": [
    {
     "data": {
      "text/plain": [
       "{'virat': 90,\n",
       " 'rohith': 100,\n",
       " 'gill': 80,\n",
       " 'rahul': 60,\n",
       " 'hardik': 9,\n",
       " 'jadeja': 30,\n",
       " 'siraz': 15}"
      ]
     },
     "execution_count": 9,
     "metadata": {},
     "output_type": "execute_result"
    }
   ],
   "source": [
    "scores={'virat':90,'rohith':100,'gill':80,'rahul':60,'hardik':9,'jadeja':30,'siraz':15}\n",
    "scores"
   ]
  },
  {
   "cell_type": "code",
   "execution_count": 11,
   "id": "1279bb27-b877-473b-bd3d-96c29b620329",
   "metadata": {},
   "outputs": [
    {
     "data": {
      "text/plain": [
       "{'virat': 90,\n",
       " 'rohith': 100,\n",
       " 'gill': 80,\n",
       " 'rahul': 60,\n",
       " 'hardik': 9,\n",
       " 'jadeja': 30,\n",
       " 'siraz': 15,\n",
       " 'Aswin': 20}"
      ]
     },
     "execution_count": 11,
     "metadata": {},
     "output_type": "execute_result"
    }
   ],
   "source": [
    "#udate\n",
    "scores[\"Aswin\"]=20\n",
    "scores"
   ]
  },
  {
   "cell_type": "code",
   "execution_count": 13,
   "id": "909b627f-dd39-4436-90af-74b09d733b1b",
   "metadata": {},
   "outputs": [
    {
     "data": {
      "text/plain": [
       "{'virat': 90,\n",
       " 'rohith': 100,\n",
       " 'gill': 80,\n",
       " 'rahul': 60,\n",
       " 'hardik': 9,\n",
       " 'jadeja': 50,\n",
       " 'siraz': 15,\n",
       " 'Aswin': 20}"
      ]
     },
     "execution_count": 13,
     "metadata": {},
     "output_type": "execute_result"
    }
   ],
   "source": [
    "#add to scores another score jadeja:50 using update()\n",
    "scores.update({\"jadeja\":50})\n",
    "scores"
   ]
  },
  {
   "cell_type": "code",
   "execution_count": 15,
   "id": "3d00fe59-5191-4379-a9c1-88f0b987a71a",
   "metadata": {},
   "outputs": [
    {
     "data": {
      "text/plain": [
       "{'virat': 90,\n",
       " 'rohith': 100,\n",
       " 'gill': 80,\n",
       " 'rahul': 60,\n",
       " 'hardik': 65,\n",
       " 'jadeja': 50,\n",
       " 'siraz': 15,\n",
       " 'Aswin': 20,\n",
       " 'rahane': 45}"
      ]
     },
     "execution_count": 15,
     "metadata": {},
     "output_type": "execute_result"
    }
   ],
   "source": [
    "scores.update({\"hardik\":65,\"rahane\":45})\n",
    "scores"
   ]
  },
  {
   "cell_type": "code",
   "execution_count": 21,
   "id": "46e8958b-fbe8-4e46-ae9b-8436001c9d57",
   "metadata": {},
   "outputs": [
    {
     "data": {
      "text/plain": [
       "{'virat': 90,\n",
       " 'rohith': 100,\n",
       " 'gill': 80,\n",
       " 'rahul': 60,\n",
       " 'hardik': 65,\n",
       " 'jadeja': 50,\n",
       " 'siraz': 15,\n",
       " 'Aswin': 20,\n",
       " 'rahane': 45}"
      ]
     },
     "execution_count": 21,
     "metadata": {},
     "output_type": "execute_result"
    }
   ],
   "source": [
    "scores.setdefault(\"rahul\",70) #ignores the key value is key is already present,will add if key is not present\n",
    "scores"
   ]
  },
  {
   "cell_type": "code",
   "execution_count": 25,
   "id": "15a58259-62c0-4282-a8a4-486a9ced3fe1",
   "metadata": {},
   "outputs": [
    {
     "data": {
      "text/plain": [
       "{'virat': 90,\n",
       " 'rohith': 100,\n",
       " 'gill': 80,\n",
       " 'rahul': 60,\n",
       " 'hardik': 65,\n",
       " 'jadeja': 50,\n",
       " 'siraz': 15,\n",
       " 'Aswin': 20,\n",
       " 'rahane': 45,\n",
       " 'abhishek': 50,\n",
       " 'pujara': 50}"
      ]
     },
     "execution_count": 25,
     "metadata": {},
     "output_type": "execute_result"
    }
   ],
   "source": [
    "scores.setdefault(\"pujara\",50)\n",
    "scores"
   ]
  },
  {
   "cell_type": "code",
   "execution_count": 27,
   "id": "add84ac9-5152-4dae-84a7-9cdc82966844",
   "metadata": {},
   "outputs": [
    {
     "data": {
      "text/plain": [
       "{'virat': 90,\n",
       " 'rohith': 100,\n",
       " 'gill': 80,\n",
       " 'rahul': 60,\n",
       " 'hardik': 65,\n",
       " 'jadeja': 50,\n",
       " 'siraz': 15,\n",
       " 'Aswin': 20,\n",
       " 'rahane': 45,\n",
       " 'abhishek': 50}"
      ]
     },
     "execution_count": 27,
     "metadata": {},
     "output_type": "execute_result"
    }
   ],
   "source": [
    "scores.popitem()#removes last item\n",
    "scores"
   ]
  },
  {
   "cell_type": "code",
   "execution_count": 29,
   "id": "877fbcb8-d72a-4a47-8c19-75aa928860f8",
   "metadata": {},
   "outputs": [
    {
     "data": {
      "text/plain": [
       "{'virat': 90,\n",
       " 'rohith': 100,\n",
       " 'gill': 80,\n",
       " 'rahul': 60,\n",
       " 'hardik': 65,\n",
       " 'jadeja': 50,\n",
       " 'Aswin': 20,\n",
       " 'rahane': 45,\n",
       " 'abhishek': 50}"
      ]
     },
     "execution_count": 29,
     "metadata": {},
     "output_type": "execute_result"
    }
   ],
   "source": [
    "scores.pop(\"siraz\")\n",
    "scores"
   ]
  },
  {
   "cell_type": "code",
   "execution_count": 33,
   "id": "9dbc7f78-4750-4399-b011-e74929b2877b",
   "metadata": {},
   "outputs": [
    {
     "data": {
      "text/plain": [
       "80"
      ]
     },
     "execution_count": 33,
     "metadata": {},
     "output_type": "execute_result"
    }
   ],
   "source": [
    "scores.get(\"gill\")#used to retrive a keys value"
   ]
  },
  {
   "cell_type": "code",
   "execution_count": 37,
   "id": "bdab326b-72af-4c80-ae2e-9d2d64acadcd",
   "metadata": {},
   "outputs": [
    {
     "data": {
      "text/plain": [
       "{'A': 10, 'B': 10, 'C': 10, 'D': 10}"
      ]
     },
     "execution_count": 37,
     "metadata": {},
     "output_type": "execute_result"
    }
   ],
   "source": [
    "#use of fromkeys() to create a new dict\n",
    "list1=[\"A\",\"B\",\"C\",\"D\"]\n",
    "my_dict=dict.fromkeys(list1,10)\n",
    "my_dict"
   ]
  },
  {
   "cell_type": "code",
   "execution_count": 39,
   "id": "b7e6bdbd-3f20-4c60-8d37-e4bf4562f32c",
   "metadata": {},
   "outputs": [
    {
     "data": {
      "text/plain": [
       "{'A': 10, 'B': 20, 'C': 10, 'D': 10}"
      ]
     },
     "execution_count": 39,
     "metadata": {},
     "output_type": "execute_result"
    }
   ],
   "source": [
    "#my_dict.update\n",
    "my_dict.update({\"A\":10,\"B\":20})\n",
    "my_dict"
   ]
  },
  {
   "cell_type": "code",
   "execution_count": null,
   "id": "219ef6a4-2c02-4ff1-882a-a5812dfd929d",
   "metadata": {},
   "outputs": [],
   "source": []
  }
 ],
 "metadata": {
  "kernelspec": {
   "display_name": "Python [conda env:base] *",
   "language": "python",
   "name": "conda-base-py"
  },
  "language_info": {
   "codemirror_mode": {
    "name": "ipython",
    "version": 3
   },
   "file_extension": ".py",
   "mimetype": "text/x-python",
   "name": "python",
   "nbconvert_exporter": "python",
   "pygments_lexer": "ipython3",
   "version": "3.12.7"
  }
 },
 "nbformat": 4,
 "nbformat_minor": 5
}
