{
 "cells": [
  {
   "cell_type": "code",
   "execution_count": 1,
   "id": "8bc55c94-895d-4b34-b1ef-6f21d2995179",
   "metadata": {},
   "outputs": [
    {
     "name": "stdout",
     "output_type": "stream",
     "text": [
      "{0, 1, 8, 9, 10}\n",
      "<class 'set'>\n"
     ]
    }
   ],
   "source": [
    "#sets and srtings\n",
    "s1={1,8,9,0,10,9,0,1,9}\n",
    "print(s1)\n",
    "print(type(s1))"
   ]
  },
  {
   "cell_type": "code",
   "execution_count": 3,
   "id": "5d88c8e7-716f-4823-96a2-cad52e6e9932",
   "metadata": {},
   "outputs": [],
   "source": [
    "lst1=[1,8,9,0,10,20,78,8,8,8]"
   ]
  },
  {
   "cell_type": "code",
   "execution_count": 5,
   "id": "d7dfbe3e-436f-4d48-8b27-fcb2d3c73683",
   "metadata": {},
   "outputs": [
    {
     "name": "stdout",
     "output_type": "stream",
     "text": [
      "{0, 1, 8, 9, 10, 78, 20}\n",
      "<class 'set'>\n"
     ]
    }
   ],
   "source": [
    "s2=set(lst1)\n",
    "print(s2)\n",
    "print(type(s2))"
   ]
  },
  {
   "cell_type": "code",
   "execution_count": 21,
   "id": "af1f6563-ea6c-447d-9b03-f9bddf747ed7",
   "metadata": {},
   "outputs": [
    {
     "data": {
      "text/plain": [
       "['__and__',\n",
       " '__class__',\n",
       " '__class_getitem__',\n",
       " '__contains__',\n",
       " '__delattr__',\n",
       " '__dir__',\n",
       " '__doc__',\n",
       " '__eq__',\n",
       " '__format__',\n",
       " '__ge__',\n",
       " '__getattribute__',\n",
       " '__getstate__',\n",
       " '__gt__',\n",
       " '__hash__',\n",
       " '__iand__',\n",
       " '__init__',\n",
       " '__init_subclass__',\n",
       " '__ior__',\n",
       " '__isub__',\n",
       " '__iter__',\n",
       " '__ixor__',\n",
       " '__le__',\n",
       " '__len__',\n",
       " '__lt__',\n",
       " '__ne__',\n",
       " '__new__',\n",
       " '__or__',\n",
       " '__rand__',\n",
       " '__reduce__',\n",
       " '__reduce_ex__',\n",
       " '__repr__',\n",
       " '__ror__',\n",
       " '__rsub__',\n",
       " '__rxor__',\n",
       " '__setattr__',\n",
       " '__sizeof__',\n",
       " '__str__',\n",
       " '__sub__',\n",
       " '__subclasshook__',\n",
       " '__xor__',\n",
       " 'add',\n",
       " 'clear',\n",
       " 'copy',\n",
       " 'difference',\n",
       " 'difference_update',\n",
       " 'discard',\n",
       " 'intersection',\n",
       " 'intersection_update',\n",
       " 'isdisjoint',\n",
       " 'issubset',\n",
       " 'issuperset',\n",
       " 'pop',\n",
       " 'remove',\n",
       " 'symmetric_difference',\n",
       " 'symmetric_difference_update',\n",
       " 'union',\n",
       " 'update']"
      ]
     },
     "execution_count": 21,
     "metadata": {},
     "output_type": "execute_result"
    }
   ],
   "source": [
    "dir(set)"
   ]
  },
  {
   "cell_type": "code",
   "execution_count": 15,
   "id": "dadeb696-c0f7-444e-9a10-1c2bd90079e4",
   "metadata": {},
   "outputs": [],
   "source": [
    "#union operation\n",
    "s1={1,2,3,4}\n",
    "s2={3,4,5,6}"
   ]
  },
  {
   "cell_type": "code",
   "execution_count": 17,
   "id": "18eec720-ea79-4ac9-84d6-2204dcb30ff5",
   "metadata": {},
   "outputs": [
    {
     "data": {
      "text/plain": [
       "{1, 2, 3, 4, 5, 6}"
      ]
     },
     "execution_count": 17,
     "metadata": {},
     "output_type": "execute_result"
    }
   ],
   "source": [
    "s1 | s2"
   ]
  },
  {
   "cell_type": "code",
   "execution_count": 19,
   "id": "03d13fa7-ec72-4987-a4a8-80a02bf8106f",
   "metadata": {},
   "outputs": [
    {
     "data": {
      "text/plain": [
       "{1, 2, 3, 4, 5, 6}"
      ]
     },
     "execution_count": 19,
     "metadata": {},
     "output_type": "execute_result"
    }
   ],
   "source": [
    "s1.union(s2)"
   ]
  },
  {
   "cell_type": "code",
   "execution_count": 23,
   "id": "fc57fab3-7dbd-4768-a3cb-61958b7f3d1a",
   "metadata": {},
   "outputs": [],
   "source": [
    "#intersection &operator\n",
    "s1={1,2,3,4}\n",
    "s2={3,4,5,6}"
   ]
  },
  {
   "cell_type": "code",
   "execution_count": 25,
   "id": "3d7c7616-f600-4ec0-8180-41df495e0686",
   "metadata": {},
   "outputs": [
    {
     "data": {
      "text/plain": [
       "{3, 4}"
      ]
     },
     "execution_count": 25,
     "metadata": {},
     "output_type": "execute_result"
    }
   ],
   "source": [
    "s1 & s2"
   ]
  },
  {
   "cell_type": "code",
   "execution_count": 27,
   "id": "fd038555-958a-4b01-9a25-cb0b7dc495dc",
   "metadata": {},
   "outputs": [
    {
     "data": {
      "text/plain": [
       "{3, 4}"
      ]
     },
     "execution_count": 27,
     "metadata": {},
     "output_type": "execute_result"
    }
   ],
   "source": [
    "s1.intersection(s2)"
   ]
  },
  {
   "cell_type": "code",
   "execution_count": 29,
   "id": "d48146ec-570a-40cd-ae67-932c1ad0f521",
   "metadata": {},
   "outputs": [],
   "source": [
    "#difference\n",
    "s1={2,3,5,6,7}\n",
    "s2={5,6,7}"
   ]
  },
  {
   "cell_type": "code",
   "execution_count": 31,
   "id": "8b066b8e-fbc3-48b4-a50d-ca0ba0048513",
   "metadata": {},
   "outputs": [
    {
     "data": {
      "text/plain": [
       "{2, 3}"
      ]
     },
     "execution_count": 31,
     "metadata": {},
     "output_type": "execute_result"
    }
   ],
   "source": [
    "s1-s2"
   ]
  },
  {
   "cell_type": "code",
   "execution_count": 33,
   "id": "0e89f578-8d41-4673-8cde-733da3d75d59",
   "metadata": {},
   "outputs": [
    {
     "data": {
      "text/plain": [
       "set()"
      ]
     },
     "execution_count": 33,
     "metadata": {},
     "output_type": "execute_result"
    }
   ],
   "source": [
    "s2-s1"
   ]
  },
  {
   "cell_type": "code",
   "execution_count": 37,
   "id": "b3278186-393e-4ce2-ae28-2e3a3d4f776c",
   "metadata": {},
   "outputs": [],
   "source": [
    "#symmetric difference\n",
    "s1={1,2,3,4,5}\n",
    "s2={4,5,6,7,8}"
   ]
  },
  {
   "cell_type": "code",
   "execution_count": 41,
   "id": "34eee797-dc39-4dac-8ae5-0e49ba6adbe8",
   "metadata": {},
   "outputs": [
    {
     "data": {
      "text/plain": [
       "{1, 2, 3, 6, 7, 8}"
      ]
     },
     "execution_count": 41,
     "metadata": {},
     "output_type": "execute_result"
    }
   ],
   "source": [
    "s1.symmetric_difference(s2)"
   ]
  },
  {
   "cell_type": "code",
   "execution_count": 43,
   "id": "2e725a2b-4618-4c89-942d-c6214cbc5a53",
   "metadata": {},
   "outputs": [
    {
     "data": {
      "text/plain": [
       "{1, 2, 3, 6, 7, 8}"
      ]
     },
     "execution_count": 43,
     "metadata": {},
     "output_type": "execute_result"
    }
   ],
   "source": [
    "s2.symmetric_difference(s1)"
   ]
  },
  {
   "cell_type": "code",
   "execution_count": 45,
   "id": "c00bbf8c-f01b-46ac-bf0c-42186674031e",
   "metadata": {},
   "outputs": [
    {
     "name": "stdout",
     "output_type": "stream",
     "text": [
      "Welcome to aiml class\n",
      "we started with python\n",
      "This an awesome class\n"
     ]
    }
   ],
   "source": [
    "#strings\n",
    "str1=\"Welcome to aiml class\"\n",
    "str2='we started with python'\n",
    "str3='''This an awesome class'''\n",
    "print(str1)\n",
    "print(str2)\n",
    "print(str3)"
   ]
  },
  {
   "cell_type": "code",
   "execution_count": 47,
   "id": "b423dace-e40a-49bc-856b-53ee6eaf5248",
   "metadata": {},
   "outputs": [
    {
     "name": "stdout",
     "output_type": "stream",
     "text": [
      "<class 'str'>\n",
      "<class 'str'>\n",
      "<class 'str'>\n"
     ]
    }
   ],
   "source": [
    "print(type(str1))\n",
    "print(type(str2))\n",
    "print(type(str3))"
   ]
  },
  {
   "cell_type": "code",
   "execution_count": 51,
   "id": "8233ff34-61a7-4a56-a69a-265f000db766",
   "metadata": {},
   "outputs": [
    {
     "name": "stdout",
     "output_type": "stream",
     "text": [
      "He said,\"It's awesome!\n"
     ]
    }
   ],
   "source": [
    "str4='''He said,\"It's awesome!'''\n",
    "print(str4)"
   ]
  },
  {
   "cell_type": "code",
   "execution_count": 53,
   "id": "60aa0ad5-26a1-498c-98e9-582416c83a71",
   "metadata": {},
   "outputs": [
    {
     "name": "stdout",
     "output_type": "stream",
     "text": [
      "Welcome to aiml class\n"
     ]
    },
    {
     "data": {
      "text/plain": [
       "'me to'"
      ]
     },
     "execution_count": 53,
     "metadata": {},
     "output_type": "execute_result"
    }
   ],
   "source": [
    "#slicing in strings\n",
    "print(str1)\n",
    "str1[5:10]"
   ]
  },
  {
   "cell_type": "code",
   "execution_count": 61,
   "id": "db3e7a37-9088-4612-a0a1-48e2c88ab6a0",
   "metadata": {},
   "outputs": [
    {
     "data": {
      "text/plain": [
       "'ssalc lmia ot emocleW'"
      ]
     },
     "execution_count": 61,
     "metadata": {},
     "output_type": "execute_result"
    }
   ],
   "source": [
    "#reverse string\n",
    "str1[::-1]"
   ]
  },
  {
   "cell_type": "code",
   "execution_count": 55,
   "id": "c892376b-65ee-4a01-b607-934e9066b765",
   "metadata": {},
   "outputs": [
    {
     "data": {
      "text/plain": [
       "['__add__',\n",
       " '__class__',\n",
       " '__contains__',\n",
       " '__delattr__',\n",
       " '__dir__',\n",
       " '__doc__',\n",
       " '__eq__',\n",
       " '__format__',\n",
       " '__ge__',\n",
       " '__getattribute__',\n",
       " '__getitem__',\n",
       " '__getnewargs__',\n",
       " '__getstate__',\n",
       " '__gt__',\n",
       " '__hash__',\n",
       " '__init__',\n",
       " '__init_subclass__',\n",
       " '__iter__',\n",
       " '__le__',\n",
       " '__len__',\n",
       " '__lt__',\n",
       " '__mod__',\n",
       " '__mul__',\n",
       " '__ne__',\n",
       " '__new__',\n",
       " '__reduce__',\n",
       " '__reduce_ex__',\n",
       " '__repr__',\n",
       " '__rmod__',\n",
       " '__rmul__',\n",
       " '__setattr__',\n",
       " '__sizeof__',\n",
       " '__str__',\n",
       " '__subclasshook__',\n",
       " 'capitalize',\n",
       " 'casefold',\n",
       " 'center',\n",
       " 'count',\n",
       " 'encode',\n",
       " 'endswith',\n",
       " 'expandtabs',\n",
       " 'find',\n",
       " 'format',\n",
       " 'format_map',\n",
       " 'index',\n",
       " 'isalnum',\n",
       " 'isalpha',\n",
       " 'isascii',\n",
       " 'isdecimal',\n",
       " 'isdigit',\n",
       " 'isidentifier',\n",
       " 'islower',\n",
       " 'isnumeric',\n",
       " 'isprintable',\n",
       " 'isspace',\n",
       " 'istitle',\n",
       " 'isupper',\n",
       " 'join',\n",
       " 'ljust',\n",
       " 'lower',\n",
       " 'lstrip',\n",
       " 'maketrans',\n",
       " 'partition',\n",
       " 'removeprefix',\n",
       " 'removesuffix',\n",
       " 'replace',\n",
       " 'rfind',\n",
       " 'rindex',\n",
       " 'rjust',\n",
       " 'rpartition',\n",
       " 'rsplit',\n",
       " 'rstrip',\n",
       " 'split',\n",
       " 'splitlines',\n",
       " 'startswith',\n",
       " 'strip',\n",
       " 'swapcase',\n",
       " 'title',\n",
       " 'translate',\n",
       " 'upper',\n",
       " 'zfill']"
      ]
     },
     "execution_count": 55,
     "metadata": {},
     "output_type": "execute_result"
    }
   ],
   "source": [
    "dir(str)"
   ]
  },
  {
   "cell_type": "code",
   "execution_count": 63,
   "id": "e4a5ed71-6780-473d-8b1b-bd8e37ddb8d2",
   "metadata": {},
   "outputs": [
    {
     "name": "stdout",
     "output_type": "stream",
     "text": [
      "Welcome to aiml class\n"
     ]
    },
    {
     "data": {
      "text/plain": [
       "['Welcome', 'to', 'aiml', 'class']"
      ]
     },
     "execution_count": 63,
     "metadata": {},
     "output_type": "execute_result"
    }
   ],
   "source": [
    "#use of split\n",
    "print(str1)\n",
    "str1.split()"
   ]
  },
  {
   "cell_type": "code",
   "execution_count": 65,
   "id": "a3baa94d-219f-4050-8864-dd5dfd47d5b6",
   "metadata": {},
   "outputs": [
    {
     "data": {
      "text/plain": [
       "'the product is awesome Great Service'"
      ]
     },
     "execution_count": 65,
     "metadata": {},
     "output_type": "execute_result"
    }
   ],
   "source": [
    "#use of join()\n",
    "reviews=[\"the product is awesome\", \"Great Service\"]\n",
    "joined_string=' '.join(reviews)\n",
    "joined_string"
   ]
  },
  {
   "cell_type": "code",
   "execution_count": 67,
   "id": "7a49325b-a3aa-4a3a-b3bd-38c881910572",
   "metadata": {},
   "outputs": [
    {
     "data": {
      "text/plain": [
       "'     Hello, How are you?     '"
      ]
     },
     "execution_count": 67,
     "metadata": {},
     "output_type": "execute_result"
    }
   ],
   "source": [
    "#Use of strip()\n",
    "str5=\"     Hello, How are you?     \"\n",
    "str5"
   ]
  },
  {
   "cell_type": "code",
   "execution_count": 69,
   "id": "c3ab5ab7-580f-4ca0-b944-98a3e3e7c2fc",
   "metadata": {},
   "outputs": [
    {
     "data": {
      "text/plain": [
       "'Hello, How are you?'"
      ]
     },
     "execution_count": 69,
     "metadata": {},
     "output_type": "execute_result"
    }
   ],
   "source": [
    "str5.strip()"
   ]
  },
  {
   "cell_type": "code",
   "execution_count": 71,
   "id": "815dd164-18ff-414f-bd73-da6155eb4ab5",
   "metadata": {},
   "outputs": [],
   "source": [
    "sales_data = {\n",
    "    \"ProductID\": [101, 102, 103, 104, 105, 106, 107, 108, 109, 110],\n",
    "    \"ProductName\": [\"Laptop\", \"Mouse\", \"Keyboard\", \"Monitor\", \"Chair\", \"Desk\", \"Webcam\", \"Headphones\", \"Printer\", \"Tablet\"],\n",
    "    \"Category\": [\"Electronics\", \"Accessories\", \"Accessories\", \"Electronics\", \"Furniture\", \"Furniture\", \"Electronics\", \"Accessories\", \"Electronics\", \"Electronics\"],\n",
    "    \"PriceRange\": [\"High\", \"Low\", \"Low\", \"Medium\", \"Medium\", \"Medium\", \"Low\", \"Low\", \"Medium\", \"High\"],\n",
    "    \"StockAvailable\": [15, 100, 75, 20, 10, 8, 50, 60, 25, 12],\n",
    "}"
   ]
  },
  {
   "cell_type": "code",
   "execution_count": 73,
   "id": "d5203eaf-248b-47eb-b5a4-9888e1a670df",
   "metadata": {},
   "outputs": [
    {
     "name": "stdout",
     "output_type": "stream",
     "text": [
      "ProductID {101, 102, 103, 104, 105, 106, 107, 108, 109, 110},/n\n",
      "ProductName {'Desk', 'Webcam', 'Keyboard', 'Mouse', 'Chair', 'Laptop', 'Tablet', 'Monitor', 'Printer', 'Headphones'},/n\n",
      "Category {'Electronics', 'Accessories', 'Furniture'},/n\n",
      "PriceRange {'High', 'Low', 'Medium'},/n\n",
      "StockAvailable {100, 8, 10, 75, 12, 15, 50, 20, 25, 60},/n\n"
     ]
    }
   ],
   "source": [
    "for k,v in sales_data.items():\n",
    "    print(k,set(v), end =',')\n",
    "    print('/n')"
   ]
  },
  {
   "cell_type": "code",
   "execution_count": 75,
   "id": "166f2706-a0d8-4f63-aadc-50e440b8c9b1",
   "metadata": {},
   "outputs": [
    {
     "data": {
      "text/plain": [
       "{'Review1': {'WordCount': 14,\n",
       "  'UniqueWords': ['is',\n",
       "   'delivery',\n",
       "   'functionality',\n",
       "   'prompt',\n",
       "   'versatile',\n",
       "   'and',\n",
       "   'was',\n",
       "   'product',\n",
       "   'quality',\n",
       "   'the',\n",
       "   'excellent']},\n",
       " 'Review2': {'WordCount': 15,\n",
       "  'UniqueWords': ['good',\n",
       "   'packaging',\n",
       "   'but',\n",
       "   'improve',\n",
       "   'customer',\n",
       "   'service',\n",
       "   'to',\n",
       "   'has',\n",
       "   'could',\n",
       "   'better',\n",
       "   'the',\n",
       "   'been',\n",
       "   'have']},\n",
       " 'Review3': {'WordCount': 18,\n",
       "  'UniqueWords': ['is',\n",
       "   'works',\n",
       "   'helpful',\n",
       "   'not',\n",
       "   'support',\n",
       "   'but',\n",
       "   'fine',\n",
       "   'very',\n",
       "   'i',\n",
       "   'rate',\n",
       "   'customer',\n",
       "   'as',\n",
       "   'product',\n",
       "   'the',\n",
       "   'excellent']}}"
      ]
     },
     "execution_count": 75,
     "metadata": {},
     "output_type": "execute_result"
    }
   ],
   "source": [
    "# Original reviews dictionary\n",
    "reviews = {\n",
    "    \"Review1\": \"The product quality is excellent and delivery was prompt. The product functionality is versatile\",\n",
    "    \"Review2\": \"Good service but the packaging could have been better. The customer service has to improve\",\n",
    "    \"Review3\": \"The product works fine, but the customer support is not very helpful. I rate the product as excellent\",\n",
    "}\n",
    "\n",
    "# Result dictionary to store analysis of reviews\n",
    "review_analysis = {}\n",
    "\n",
    "# Process each review\n",
    "for key, review in reviews.items():\n",
    "    # Split the review into words\n",
    "    words = review.lower().replace('.', '').replace(',', '').split()\n",
    "    # Create a sub-dictionary with word count and unique words\n",
    "    review_analysis[key] = {\n",
    "        \"WordCount\": len(words),\n",
    "        \"UniqueWords\": list(set(words))\n",
    "    }\n",
    "\n",
    "review_analysis\n"
   ]
  },
  {
   "cell_type": "code",
   "execution_count": 79,
   "id": "50f83145-b10a-44c7-8940-1c5c966dd6b5",
   "metadata": {},
   "outputs": [],
   "source": [
    "d1={\"Ram\": 180, \"Shyam\":170,\"Ramya\":176}"
   ]
  },
  {
   "cell_type": "code",
   "execution_count": 83,
   "id": "6674fcbe-81d0-429d-9484-f80bfa929d42",
   "metadata": {},
   "outputs": [
    {
     "name": "stdout",
     "output_type": "stream",
     "text": [
      "Ram\n",
      "Shyam\n",
      "Ramya\n"
     ]
    }
   ],
   "source": [
    "for k in d1.keys():\n",
    "    print(k)"
   ]
  },
  {
   "cell_type": "code",
   "execution_count": 87,
   "id": "d6264c59-4ccb-45a9-81cd-268331a94f41",
   "metadata": {},
   "outputs": [
    {
     "name": "stdout",
     "output_type": "stream",
     "text": [
      "180\n",
      "170\n",
      "176\n"
     ]
    }
   ],
   "source": [
    "for v in d1.values():\n",
    "    print(v)"
   ]
  },
  {
   "cell_type": "code",
   "execution_count": 91,
   "id": "8bbe9faa-0033-4a86-833e-04d10bb65b19",
   "metadata": {},
   "outputs": [
    {
     "name": "stdout",
     "output_type": "stream",
     "text": [
      "Ram 180\n",
      "Shyam 170\n",
      "Ramya 176\n"
     ]
    }
   ],
   "source": [
    "for k,v in d1.items():\n",
    "    print(k,v)"
   ]
  },
  {
   "cell_type": "code",
   "execution_count": 93,
   "id": "0924654f-24a5-4422-b085-79291498624b",
   "metadata": {},
   "outputs": [
    {
     "data": {
      "text/plain": [
       "{'Ram': 180, 'Shyam': 170, 'Ramya': 176, 'John': 165}"
      ]
     },
     "execution_count": 93,
     "metadata": {},
     "output_type": "execute_result"
    }
   ],
   "source": [
    "d1[\"John\"]=165\n",
    "d1"
   ]
  },
  {
   "cell_type": "code",
   "execution_count": null,
   "id": "7c906943-72f8-4bc2-b638-8f0730b1ec8e",
   "metadata": {},
   "outputs": [],
   "source": []
  }
 ],
 "metadata": {
  "kernelspec": {
   "display_name": "Python [conda env:base] *",
   "language": "python",
   "name": "conda-base-py"
  },
  "language_info": {
   "codemirror_mode": {
    "name": "ipython",
    "version": 3
   },
   "file_extension": ".py",
   "mimetype": "text/x-python",
   "name": "python",
   "nbconvert_exporter": "python",
   "pygments_lexer": "ipython3",
   "version": "3.12.7"
  }
 },
 "nbformat": 4,
 "nbformat_minor": 5
}
